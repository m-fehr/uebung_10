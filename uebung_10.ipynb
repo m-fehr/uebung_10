{
 "cells": [
  {
   "cell_type": "markdown",
   "id": "1ba3f8dd",
   "metadata": {},
   "source": [
    "# <ins>Übung 10 - 17.07.2025</ins>\n",
    "\n",
    "In der heutigen Übung haben Sie erneut die Möglichkeit, folgende Themen zu üben:\n",
    "\n",
    "- Trapezfunktion\n",
    "- Ableitung\n"
   ]
  },
  {
   "cell_type": "markdown",
   "id": "a1a5aaca",
   "metadata": {},
   "source": [
    "## Trapezfunktion\n",
    "\n",
    "In dieser Aufgabe sollen Sie die in der Vorlesung vorgestellte Trapezfunktion selbst programmieren.\n",
    "\n",
    "![title](trapez.svg)\n",
    "\n",
    "Schreiben Sie eine Funktion, die die in der Vorlesung vorgestellte Trapezregel zum numerischen Integrieren von Funktionen implementiert. Die Funktion soll ein Numpy Array an Funktionswerten und eine Schrittweite $\\Delta x$ entgegen nehmen und daraus den Flächeninhalt bestimmen. Gehen Sie davon aus, dass für die zu den Funktionswerten gehörigen x-Werte gilt: $x_0, x_0+\\Delta x, x_0 + 2\\Delta x, ...$.\n",
    "\n",
    "### Schritt für Schritt:\n",
    "\n",
    "1. Importieren Sie numpy und scipy mit der Abkürzung sp\n",
    "1. Definieren Sie eine Schrittweite von 0.2 \n",
    "2. Erstellen Sie eine Array mit Zahlenwerten von 0 bis 2$\\pi$ mit der oben definierten Schrittweite\n",
    "3. Erstellen Sie ein Array mit den zugehörigen Sinuswerten\n",
    "4. Berechnen Sie die Fläche unter der Kurve zwischen Punkt $x_0$ und $x_{1}$\n",
    "5. Schreiben Sie den Code um, sodass die Flächenberechnung in der Funktion `trapez` stattfindet. Die Funktion soll dabei das Array mit den Funktionswerten und die Schrittweite übergeben bekommen.\n",
    "6. Schreiben Sie die Funktion `trapez` so um, dass die Fläche für alle FUnktionswerte berechnet wird\n",
    "7. Vergleichen Sie Ihre selbst geschriebene Funktion mit der Funktion `sp.integrate.trapezoid`"
   ]
  },
  {
   "cell_type": "code",
   "execution_count": null,
   "id": "33bcfcc3",
   "metadata": {},
   "outputs": [],
   "source": []
  },
  {
   "cell_type": "markdown",
   "id": "eab37061",
   "metadata": {},
   "source": [
    "## Ableitung und Genauigkeit\n",
    "\n",
    "Heute wollen wir uns mit der Ableitung beschäftigen. Unsere Ausgangsfunktion ist: \n",
    "$$\n",
    "f(x) = x^3 +2x^2\n",
    "$$\n",
    "In dieser Übungsaufgabe werden Sie 2 Näherungen der 1. Ableitung einer Funktion implementieren und deren Genauigkeit analysieren."
   ]
  },
  {
   "cell_type": "markdown",
   "id": "95da4861",
   "metadata": {},
   "source": [
    "### Aufgabenteil A\n",
    "\n",
    "Schreiben Sie eine Funktion `f(x)`, die ein Array entgegen nimmt, die Ausgangsfunktion \n",
    "auf jedes Element des Arrays anwendet und alle berechneten Werte wieder als Array \n",
    "zurück gibt.\n",
    "\n",
    "Berechnen Sie analytisch (von Hand) die Ableitung der Funktion $f(x)$ und \n",
    "implementieren Sie diese nach dem gleichen Prinzip. Nennen Sie die Funktion\n",
    "`df(x)`."
   ]
  },
  {
   "cell_type": "code",
   "execution_count": null,
   "id": "5efdcf89",
   "metadata": {},
   "outputs": [],
   "source": []
  },
  {
   "cell_type": "markdown",
   "id": "fa5e87ca",
   "metadata": {},
   "source": [
    "### Aufgabenteil B\n",
    "\n",
    "Stellen Sie die Funktion `f(x)` und deren Ableitung `df(x)` graphisch im Intervall $\\sf x \\in [-4,4]$ dar."
   ]
  },
  {
   "cell_type": "code",
   "execution_count": null,
   "id": "2d8d3ecf",
   "metadata": {},
   "outputs": [],
   "source": []
  },
  {
   "cell_type": "markdown",
   "id": "b5752916",
   "metadata": {},
   "source": [
    "### Aufgabenteil C\n",
    "\n",
    "Schreiben Sie die Funktion `ableitung_o1(funk, x, h)`, die für eine beliebige übergebene Funktion die 1. Ableitung 1. Ordnung der Funktion an allen Stellen des Arrays $x$ berechnet und das Ergebnis als Array wieder zurück gibt. Sie können Funktionen wie Variablen übergeben und dann mit dem zugewiesenen Namen, hier `funk`, auf diese zugreifen.\n",
    "$$\n",
    "y'(x) = \\dfrac{y_{x+h} - y_{x}}{h} + \\mathcal{O}\\left(\\Delta h\\right)\n",
    "$$\n",
    "\n",
    "Schreiben Sie zusätzlich eine Funktion `ableitung_o2(funk, x, h)`, die die 1. Ableitung 2. Ordnung berechnet.\n",
    "$$\n",
    "y'(x) = \\dfrac{y_{x+h} - y_{x-h}}{2h} + \\mathcal{O}\\left(\\Delta h^2\\right)\n",
    "$$"
   ]
  },
  {
   "cell_type": "code",
   "execution_count": null,
   "id": "2bc74099",
   "metadata": {},
   "outputs": [],
   "source": []
  },
  {
   "cell_type": "markdown",
   "id": "0a6c5bba",
   "metadata": {},
   "source": [
    "### Aufgabenteil D\n",
    "\n",
    "Schreiben Sie ein Programm, welches die Genauigkeit der numerischen Lösungen mit der analytischen vergleicht. Werten Sie dazu alle drei Ableitungsfunktionen an jeweils 10 beliebigen Stellen für alle $h \\in \\{1, 10^{-1}, 10^{-2}, ..., 10^{-15}\\}$ aus. Bestimmen Sie die Differenzen zwischen der analytischen Lösung und den numerischen und bilden Sie immer den Mittelwert über die 10 Stellen. Plotten Sie die Differenzen doppelt logaritmisch gegen $h$.\n",
    "\n",
    "Schritt für Schritt:\n",
    "1. Erzeugen Sie eine leere Liste für $h$-Werte\n",
    "2. Erzeugen Sie zwei NumPy-Arrays mit der passenden Größe. Die Werte sollen mit 0 \n",
    "initialisiert werden\n",
    "3. Berechnen Sie den ersten $h$-Wert und die dazu passenden Ableitungen\n",
    "4. Schreiben Sie jetzt Python-Code der dies für alle $h$-Werte durchführt.\n",
    "5. Berechnen Sie die Differenz zur analytischen Ableitung\n",
    "6. Berechnen Sie den Mittelwert dieser Differenzen für jeden $h$-Wert\n",
    "7. Plotten Sie diese Mittelwerte genüber den $h$-Werten"
   ]
  },
  {
   "cell_type": "code",
   "execution_count": null,
   "id": "8434c0e0",
   "metadata": {},
   "outputs": [],
   "source": []
  },
  {
   "cell_type": "markdown",
   "id": "104cbe59",
   "metadata": {},
   "source": [
    "### Aufgabenteil E (Hausaufgabe)\n",
    "\n",
    "1. Was zeigt der Plot? \n",
    "1. Wieso wird die Genauigkeit ab einem bestimmten Punkt für kleinere $h$ wieder schlechter? \n",
    "\n",
    "Lösungshinweis:\n",
    "\n",
    "zu 2.:<br> Erinnern Sie sich daran, dass Gleitkommazahlen in der Regel gerundet sind und selbst nur eine begrenzte Genauigkeit aufweisen. Diese Genauigkeit liegt bei c.a. $10^{-15}$. Wieso macht sie sich schon bei vergleichsweise großen $h$ bemerkbar? Schauen Sie sich die Formeln nochmal genau an."
   ]
  },
  {
   "cell_type": "code",
   "execution_count": null,
   "id": "20d206ad",
   "metadata": {},
   "outputs": [],
   "source": []
  }
 ],
 "metadata": {
  "kernelspec": {
   "display_name": ".venv",
   "language": "python",
   "name": "python3"
  },
  "language_info": {
   "codemirror_mode": {
    "name": "ipython",
    "version": 3
   },
   "file_extension": ".py",
   "mimetype": "text/x-python",
   "name": "python",
   "nbconvert_exporter": "python",
   "pygments_lexer": "ipython3",
   "version": "3.12.11"
  }
 },
 "nbformat": 4,
 "nbformat_minor": 5
}
